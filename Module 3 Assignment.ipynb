{
 "cells": [
  {
   "cell_type": "code",
   "execution_count": 85,
   "id": "c3c0f8b5-3d14-4a09-9457-00956b216d98",
   "metadata": {},
   "outputs": [],
   "source": [
    "import pandas as pd\n",
    "import numpy as np\n",
    "from scipy.spatial.distance import cdist"
   ]
  },
  {
   "cell_type": "code",
   "execution_count": 87,
   "id": "ffe37b51-115b-4079-aeda-8da69a4c1f72",
   "metadata": {},
   "outputs": [
    {
     "data": {
      "text/html": [
       "<div>\n",
       "<style scoped>\n",
       "    .dataframe tbody tr th:only-of-type {\n",
       "        vertical-align: middle;\n",
       "    }\n",
       "\n",
       "    .dataframe tbody tr th {\n",
       "        vertical-align: top;\n",
       "    }\n",
       "\n",
       "    .dataframe thead th {\n",
       "        text-align: right;\n",
       "    }\n",
       "</style>\n",
       "<table border=\"1\" class=\"dataframe\">\n",
       "  <thead>\n",
       "    <tr style=\"text-align: right;\">\n",
       "      <th></th>\n",
       "      <th>Rank</th>\n",
       "      <th>Title</th>\n",
       "      <th>Year of release</th>\n",
       "      <th>Number of Episodes</th>\n",
       "      <th>Rating</th>\n",
       "      <th>Description</th>\n",
       "      <th>Genre</th>\n",
       "      <th>Tags</th>\n",
       "      <th>Actors</th>\n",
       "    </tr>\n",
       "  </thead>\n",
       "  <tbody>\n",
       "    <tr>\n",
       "      <th>0</th>\n",
       "      <td>#1</td>\n",
       "      <td>Move to Heaven</td>\n",
       "      <td>2021</td>\n",
       "      <td>10</td>\n",
       "      <td>9.2</td>\n",
       "      <td>Geu Roo is a young autistic man. He works for ...</td>\n",
       "      <td>Life,  Drama,  Family</td>\n",
       "      <td>Autism, Uncle-Nephew Relationship, Death, Sava...</td>\n",
       "      <td>Lee Je Hoon, Tang Jun Sang, Hong Seung Hee, Ju...</td>\n",
       "    </tr>\n",
       "    <tr>\n",
       "      <th>1</th>\n",
       "      <td>#2</td>\n",
       "      <td>Twinkling Watermelon</td>\n",
       "      <td>2023</td>\n",
       "      <td>16</td>\n",
       "      <td>9.2</td>\n",
       "      <td>In 2023, high school student Eun Gyeol, a CODA...</td>\n",
       "      <td>Romance, Youth, Drama, Fantasy</td>\n",
       "      <td>Time Travel, Child From The Future, Sign Langu...</td>\n",
       "      <td>Ha Eun-Gyeol, Ha Yi-Chan, Choi Se-Kyung, Yoon ...</td>\n",
       "    </tr>\n",
       "    <tr>\n",
       "      <th>2</th>\n",
       "      <td>#3</td>\n",
       "      <td>Moving</td>\n",
       "      <td>2023</td>\n",
       "      <td>20</td>\n",
       "      <td>9.1</td>\n",
       "      <td>Kim Bong Seok, Jang Hui Su, and Lee Gang Hun, ...</td>\n",
       "      <td>Action, Thriller, Mystery, Supernatural</td>\n",
       "      <td>Graphic Violence, Supernatural Power, Multiple...</td>\n",
       "      <td>Ryu Seung Ryong, Han Hyo Joo, Zo In Sung</td>\n",
       "    </tr>\n",
       "    <tr>\n",
       "      <th>3</th>\n",
       "      <td>#4</td>\n",
       "      <td>The Trauma Code: Heroes on Call</td>\n",
       "      <td>2025</td>\n",
       "      <td>8</td>\n",
       "      <td>9.1</td>\n",
       "      <td>Baek Gang Hyeok, a genius trauma surgeon with ...</td>\n",
       "      <td>Action, Comedy, Drama, Medical</td>\n",
       "      <td>Surgeon Male Lead, Hospital Setting, Mentor-Me...</td>\n",
       "      <td>Ju Ji Hoon, Choo Young Woo, Ha Young, Yoon Gyu...</td>\n",
       "    </tr>\n",
       "    <tr>\n",
       "      <th>4</th>\n",
       "      <td>#5</td>\n",
       "      <td>Flower of Evil</td>\n",
       "      <td>2020</td>\n",
       "      <td>16</td>\n",
       "      <td>9.1</td>\n",
       "      <td>Although Baek Hee Sung is hiding a dark secret...</td>\n",
       "      <td>Thriller,  Romance,  Crime,  Melodrama</td>\n",
       "      <td>Married Couple, Deception, Suspense, Family Se...</td>\n",
       "      <td>Lee Joon Gi, Moon Chae Won, Jang Hee Jin, Seo ...</td>\n",
       "    </tr>\n",
       "  </tbody>\n",
       "</table>\n",
       "</div>"
      ],
      "text/plain": [
       "  Rank                             Title  Year of release  Number of Episodes  \\\n",
       "0   #1                    Move to Heaven             2021                  10   \n",
       "1   #2              Twinkling Watermelon             2023                  16   \n",
       "2   #3                            Moving             2023                  20   \n",
       "3   #4  The Trauma Code: Heroes on Call              2025                   8   \n",
       "4   #5                    Flower of Evil             2020                  16   \n",
       "\n",
       "   Rating                                        Description  \\\n",
       "0     9.2  Geu Roo is a young autistic man. He works for ...   \n",
       "1     9.2  In 2023, high school student Eun Gyeol, a CODA...   \n",
       "2     9.1  Kim Bong Seok, Jang Hui Su, and Lee Gang Hun, ...   \n",
       "3     9.1  Baek Gang Hyeok, a genius trauma surgeon with ...   \n",
       "4     9.1  Although Baek Hee Sung is hiding a dark secret...   \n",
       "\n",
       "                                     Genre  \\\n",
       "0                   Life,  Drama,  Family    \n",
       "1           Romance, Youth, Drama, Fantasy   \n",
       "2  Action, Thriller, Mystery, Supernatural   \n",
       "3           Action, Comedy, Drama, Medical   \n",
       "4  Thriller,  Romance,  Crime,  Melodrama    \n",
       "\n",
       "                                                Tags  \\\n",
       "0  Autism, Uncle-Nephew Relationship, Death, Sava...   \n",
       "1  Time Travel, Child From The Future, Sign Langu...   \n",
       "2  Graphic Violence, Supernatural Power, Multiple...   \n",
       "3  Surgeon Male Lead, Hospital Setting, Mentor-Me...   \n",
       "4  Married Couple, Deception, Suspense, Family Se...   \n",
       "\n",
       "                                              Actors  \n",
       "0  Lee Je Hoon, Tang Jun Sang, Hong Seung Hee, Ju...  \n",
       "1  Ha Eun-Gyeol, Ha Yi-Chan, Choi Se-Kyung, Yoon ...  \n",
       "2           Ryu Seung Ryong, Han Hyo Joo, Zo In Sung  \n",
       "3  Ju Ji Hoon, Choo Young Woo, Ha Young, Yoon Gyu...  \n",
       "4  Lee Joon Gi, Moon Chae Won, Jang Hee Jin, Seo ...  "
      ]
     },
     "execution_count": 87,
     "metadata": {},
     "output_type": "execute_result"
    }
   ],
   "source": [
    "# read in csv & display first 5 rows\n",
    "kdramaData = pd.read_csv(\"kdramas_dataset.csv\")\n",
    "kdramaData.head()"
   ]
  },
  {
   "cell_type": "code",
   "execution_count": 89,
   "id": "deb80232-f1f7-44ba-ac09-5928cc0663d9",
   "metadata": {},
   "outputs": [
    {
     "name": "stdout",
     "output_type": "stream",
     "text": [
      "<class 'pandas.core.frame.DataFrame'>\n",
      "RangeIndex: 350 entries, 0 to 349\n",
      "Data columns (total 9 columns):\n",
      " #   Column              Non-Null Count  Dtype  \n",
      "---  ------              --------------  -----  \n",
      " 0   Rank                350 non-null    object \n",
      " 1   Title               350 non-null    object \n",
      " 2   Year of release     350 non-null    int64  \n",
      " 3   Number of Episodes  350 non-null    int64  \n",
      " 4   Rating              350 non-null    float64\n",
      " 5   Description         350 non-null    object \n",
      " 6   Genre               350 non-null    object \n",
      " 7   Tags                350 non-null    object \n",
      " 8   Actors              350 non-null    object \n",
      "dtypes: float64(1), int64(2), object(6)\n",
      "memory usage: 24.7+ KB\n"
     ]
    }
   ],
   "source": [
    "# display data info\n",
    "kdramaData.info()\n",
    "# seems to have no null values"
   ]
  },
  {
   "cell_type": "code",
   "execution_count": 91,
   "id": "ecff4697-7c3d-4110-b2c9-cee4a6b528cd",
   "metadata": {},
   "outputs": [
    {
     "data": {
      "text/html": [
       "<div>\n",
       "<style scoped>\n",
       "    .dataframe tbody tr th:only-of-type {\n",
       "        vertical-align: middle;\n",
       "    }\n",
       "\n",
       "    .dataframe tbody tr th {\n",
       "        vertical-align: top;\n",
       "    }\n",
       "\n",
       "    .dataframe thead th {\n",
       "        text-align: right;\n",
       "    }\n",
       "</style>\n",
       "<table border=\"1\" class=\"dataframe\">\n",
       "  <thead>\n",
       "    <tr style=\"text-align: right;\">\n",
       "      <th></th>\n",
       "      <th>Year of release</th>\n",
       "      <th>Number of Episodes</th>\n",
       "      <th>Rating</th>\n",
       "    </tr>\n",
       "  </thead>\n",
       "  <tbody>\n",
       "    <tr>\n",
       "      <th>mean</th>\n",
       "      <td>2019.8</td>\n",
       "      <td>18.3</td>\n",
       "      <td>8.4</td>\n",
       "    </tr>\n",
       "    <tr>\n",
       "      <th>std</th>\n",
       "      <td>3.7</td>\n",
       "      <td>14.6</td>\n",
       "      <td>0.5</td>\n",
       "    </tr>\n",
       "    <tr>\n",
       "      <th>min</th>\n",
       "      <td>2003.0</td>\n",
       "      <td>1.0</td>\n",
       "      <td>6.4</td>\n",
       "    </tr>\n",
       "    <tr>\n",
       "      <th>25%</th>\n",
       "      <td>2018.0</td>\n",
       "      <td>12.0</td>\n",
       "      <td>8.3</td>\n",
       "    </tr>\n",
       "    <tr>\n",
       "      <th>50%</th>\n",
       "      <td>2020.0</td>\n",
       "      <td>16.0</td>\n",
       "      <td>8.4</td>\n",
       "    </tr>\n",
       "    <tr>\n",
       "      <th>75%</th>\n",
       "      <td>2023.0</td>\n",
       "      <td>16.0</td>\n",
       "      <td>8.6</td>\n",
       "    </tr>\n",
       "    <tr>\n",
       "      <th>max</th>\n",
       "      <td>2025.0</td>\n",
       "      <td>133.0</td>\n",
       "      <td>9.2</td>\n",
       "    </tr>\n",
       "  </tbody>\n",
       "</table>\n",
       "</div>"
      ],
      "text/plain": [
       "      Year of release  Number of Episodes  Rating\n",
       "mean           2019.8                18.3     8.4\n",
       "std               3.7                14.6     0.5\n",
       "min            2003.0                 1.0     6.4\n",
       "25%            2018.0                12.0     8.3\n",
       "50%            2020.0                16.0     8.4\n",
       "75%            2023.0                16.0     8.6\n",
       "max            2025.0               133.0     9.2"
      ]
     },
     "execution_count": 91,
     "metadata": {},
     "output_type": "execute_result"
    }
   ],
   "source": [
    "# General Statistical Overview\n",
    "# rounded to the nearest tenth\n",
    "kdramaData.describe().drop(index='count').round(1)"
   ]
  },
  {
   "cell_type": "code",
   "execution_count": 93,
   "id": "3be997f2-d96d-4328-811d-b19f52a631fb",
   "metadata": {},
   "outputs": [],
   "source": [
    "# cleaning and rebuilding dataframe for genres and ratings features\n",
    "kdramaData['Genre'] = kdramaData['Genre'].apply(lambda x: [genre.strip() for genre in x.split(',')] if isinstance(x, str) else [])\n",
    "\n",
    "all_genres = set([genre for sublist in kdramaData['Genre'] for genre in sublist])\n",
    "\n",
    "for genre in all_genres:\n",
    "    kdramaData[genre] = kdramaData['Genre'].apply(lambda x: 1 if genre in x else 0)\n",
    "\n",
    "max_rating = kdramaData['Rating'].max()\n",
    "kdramaData['Normalized_Rating'] = kdramaData['Rating'] / max_rating\n",
    "\n",
    "genre_columns = list(all_genres)\n",
    "df_features = kdramaData[genre_columns + ['Normalized_Rating']]"
   ]
  },
  {
   "cell_type": "code",
   "execution_count": 95,
   "id": "b0f16f20-29f8-48ef-8797-d8b422870a31",
   "metadata": {},
   "outputs": [],
   "source": [
    "query_drama_title = \"Move to Heaven\""
   ]
  },
  {
   "cell_type": "code",
   "execution_count": 97,
   "id": "aaf13356-703a-4960-a618-5222a41da855",
   "metadata": {},
   "outputs": [],
   "source": [
    "target_drama = df_features.loc[kdramaData['Title'] == query_drama_title].iloc[0]\n",
    "\n",
    "# euclidean distance\n",
    "distances = cdist(df_features, [target_drama], metric=\"euclidean\").flatten()"
   ]
  },
  {
   "cell_type": "code",
   "execution_count": 99,
   "id": "c73f7cfb-9ff8-4b67-bd03-a63a6af5276e",
   "metadata": {},
   "outputs": [],
   "source": [
    "query_distances = list(zip(kdramaData['Title'], distances))\n",
    "\n",
    "top_10_similar = sorted(query_distances, key=lambda x: x[1])[1:11]"
   ]
  },
  {
   "cell_type": "code",
   "execution_count": 101,
   "id": "2907bd97-1f7f-4c36-af84-72481ed2d974",
   "metadata": {},
   "outputs": [
    {
     "name": "stdout",
     "output_type": "stream",
     "text": [
      "Title: My Mister, Distance: 1.0000590719792581\n",
      "Title: Navillera, Distance: 1.0002362669849862\n",
      "Title: The Good Bad Mother, Distance: 1.0005315222581126\n",
      "Title: Dear My Friends, Distance: 1.0014757541749966\n",
      "Title: My Unfamiliar Family, Distance: 1.003773598314365\n",
      "Title: Work Later, Drink Now, Distance: 1.4162588834506002\n",
      "Title: Lost, Distance: 1.4168844118956803\n",
      "Title: One Day Off , Distance: 1.4175930104544199\n",
      "Title: Agency, Distance: 1.4183845546259704\n",
      "Title: Prison Playbook, Distance: 1.7320849134635448\n"
     ]
    }
   ],
   "source": [
    "for similar_drama, distance in top_10_similar:\n",
    "    print(f\"Title: {similar_drama}, Distance: {distance}\")"
   ]
  }
 ],
 "metadata": {
  "kernelspec": {
   "display_name": "Python 3 (ipykernel)",
   "language": "python",
   "name": "python3"
  },
  "language_info": {
   "codemirror_mode": {
    "name": "ipython",
    "version": 3
   },
   "file_extension": ".py",
   "mimetype": "text/x-python",
   "name": "python",
   "nbconvert_exporter": "python",
   "pygments_lexer": "ipython3",
   "version": "3.12.4"
  }
 },
 "nbformat": 4,
 "nbformat_minor": 5
}
